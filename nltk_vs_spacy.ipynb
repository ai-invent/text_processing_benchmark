{
 "cells": [
  {
   "cell_type": "markdown",
   "metadata": {},
   "source": [
    "# Processing text in Python\n",
    "\n",
    "The goal of this notebook is to provide a simple benchmark for the two text processing giants in Python: spaCy and NLTK. NLTK is written in pure Python, whereas spaCy is nearly entirely Cythonized. The bulk of the performance differences that we'll see are due to this fact.\n",
    "\n",
    "Using text corpora of different sizes, we'll run two processes: tokenization and POS tagging. Each of these tasks requires a linear pass over the text, so we should be able to see linear scaling of time with input size.\n",
    "\n",
    "On my mid-2015 15\" MBP, this notebook takes ~5 minutes to run in its entirety."
   ]
  },
  {
   "cell_type": "code",
   "execution_count": 1,
   "metadata": {
    "collapsed": false
   },
   "outputs": [],
   "source": [
    "%matplotlib inline\n",
    "import json\n",
    "import math\n",
    "from time import time\n",
    "import matplotlib.pyplot as plt\n",
    "from scipy import stats\n",
    "from spacy.en import English\n",
    "from nltk import pos_tag, word_tokenize\n",
    "\n",
    "nlp = English(parser=None, entity=None)    # leave the parser and NE recognizer out of the spaCy pipline"
   ]
  },
  {
   "cell_type": "markdown",
   "metadata": {},
   "source": [
    "I'm hiding the data pre-processing step here, but all I'm doing is taking 10 subsets of [*Dracula*](http://www.gutenberg.org/cache/epub/345/pg345.txt). Each subset is `n_chars` characters long, starting from the beginning of the book. `n_chars` increases by 3x for each subset (base case = 50 characters)."
   ]
  },
  {
   "cell_type": "code",
   "execution_count": 2,
   "metadata": {
    "collapsed": true
   },
   "outputs": [],
   "source": [
    "text_data = json.loads(open('dracula_subsets.json').read())"
   ]
  },
  {
   "cell_type": "code",
   "execution_count": 3,
   "metadata": {
    "collapsed": true
   },
   "outputs": [],
   "source": [
    "n_chars = [len(text) for text in text_data]"
   ]
  },
  {
   "cell_type": "code",
   "execution_count": 4,
   "metadata": {
    "collapsed": true
   },
   "outputs": [],
   "source": [
    "spacy = []\n",
    "for text in text_data:\n",
    "    times = []\n",
    "    for _ in range(3):\n",
    "        t1 = time()\n",
    "        nlp(text)\n",
    "        t2 = time()\n",
    "        times.append(t2-t1)\n",
    "    spacy.append(min(times))"
   ]
  },
  {
   "cell_type": "code",
   "execution_count": 5,
   "metadata": {
    "collapsed": false
   },
   "outputs": [],
   "source": [
    "nltk = []\n",
    "for text in text_data:\n",
    "    times = []\n",
    "    for _ in range(3):\n",
    "        t1 = time()\n",
    "        pos_tag(word_tokenize(text))\n",
    "        t2 = time()\n",
    "        times.append(t2-t1)\n",
    "    nltk.append(min(times))"
   ]
  },
  {
   "cell_type": "markdown",
   "metadata": {},
   "source": [
    "A simple linear regression in log-log space as a sanity check:"
   ]
  },
  {
   "cell_type": "code",
   "execution_count": 6,
   "metadata": {
    "collapsed": false,
    "scrolled": true
   },
   "outputs": [],
   "source": [
    "log_chars = [math.log10(n) for n in n_chars]\n",
    "log_spacy = [math.log10(t) for t in spacy]\n",
    "log_nltk = [math.log10(t) for t in nltk]"
   ]
  },
  {
   "cell_type": "code",
   "execution_count": 7,
   "metadata": {
    "collapsed": false
   },
   "outputs": [
    {
     "data": {
      "text/plain": [
       "(0.94609447414788839, -5.8091465355622702, 0.99718827870467575)"
      ]
     },
     "execution_count": 7,
     "metadata": {},
     "output_type": "execute_result"
    }
   ],
   "source": [
    "m_spacy, b_spacy, r_spacy, _, _ = stats.linregress(log_chars, log_spacy)\n",
    "m_spacy, b_spacy, r_spacy**2"
   ]
  },
  {
   "cell_type": "code",
   "execution_count": 8,
   "metadata": {
    "collapsed": false
   },
   "outputs": [
    {
     "data": {
      "text/plain": [
       "(0.97097096246561621, -4.8309119361240391, 0.9974983825625694)"
      ]
     },
     "execution_count": 8,
     "metadata": {},
     "output_type": "execute_result"
    }
   ],
   "source": [
    "m_nltk, b_nltk, r_nltk, _, _ = stats.linregress(log_chars, log_nltk)\n",
    "m_nltk, b_nltk, r_nltk**2"
   ]
  },
  {
   "cell_type": "markdown",
   "metadata": {},
   "source": [
    "Really, the two previous cells tell the entire story:\n",
    "\n",
    "- Tokenizing and tagging is linear in the size of the inputs, as we expect\n",
    "- spaCy is an order of magnitude faster than NLTK for single-threaded looping over text documents"
   ]
  },
  {
   "cell_type": "code",
   "execution_count": 9,
   "metadata": {
    "collapsed": true
   },
   "outputs": [],
   "source": [
    "def reg_spacy(x):\n",
    "    return (10 ** b_spacy) * (10 ** (m_spacy * math.log10(x)))\n",
    "\n",
    "def reg_nltk(x):\n",
    "    return (10 ** b_nltk) * (10 ** (m_nltk * math.log10(x)))"
   ]
  },
  {
   "cell_type": "code",
   "execution_count": 20,
   "metadata": {
    "collapsed": false
   },
   "outputs": [
    {
     "data": {
      "image/png": "[encoded data removed]",
      "text/plain": [
       "<matplotlib.figure.Figure at 0x11f7b6b00>"
      ]
     },
     "metadata": {},
     "output_type": "display_data"
    }
   ],
   "source": [
    "fig, ax = plt.subplots()\n",
    "\n",
    "fig.dpi = 600\n",
    "\n",
    "ax.set_xscale(\"log\")\n",
    "ax.set_yscale(\"log\")\n",
    "\n",
    "ax.scatter(n_chars, spacy, label='spaCy')\n",
    "ax.scatter(n_chars, nltk, label='NLTK')\n",
    "\n",
    "ax.plot(n_chars, [reg_spacy(x) for x in n_chars])\n",
    "ax.plot(n_chars, [reg_nltk(x) for x in n_chars])\n",
    "\n",
    "ax.set_xlabel('number of characters')\n",
    "ax.set_ylabel('time (s), best of 3')\n",
    "ax.grid(color='k', alpha=0.5, linestyle='dashed', linewidth=0.5)\n",
    "ax.legend()\n",
    "\n",
    "fig.savefig('/Users/nick/Desktop/performance.png', dpi=300)"
   ]
  },
  {
   "cell_type": "code",
   "execution_count": null,
   "metadata": {
    "collapsed": true
   },
   "outputs": [],
   "source": []
  }
 ],
 "metadata": {
  "anaconda-cloud": {},
  "kernelspec": {
   "display_name": "Python [Root]",
   "language": "python",
   "name": "Python [Root]"
  },
  "language_info": {
   "codemirror_mode": {
    "name": "ipython",
    "version": 3
   },
   "file_extension": ".py",
   "mimetype": "text/x-python",
   "name": "python",
   "nbconvert_exporter": "python",
   "pygments_lexer": "ipython3",
   "version": "3.5.2"
  }
 },
 "nbformat": 4,
 "nbformat_minor": 0
}
